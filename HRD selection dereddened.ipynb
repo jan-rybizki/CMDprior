{
 "cells": [
  {
   "cell_type": "code",
   "execution_count": 1,
   "metadata": {},
   "outputs": [
    {
     "name": "stdout",
     "output_type": "stream",
     "text": [
      "Populating the interactive namespace from numpy and matplotlib\n"
     ]
    }
   ],
   "source": [
    "%pylab inline\n",
    "import gdr2_completeness.tap_queries as tap"
   ]
  },
  {
   "cell_type": "code",
   "execution_count": 3,
   "metadata": {},
   "outputs": [
    {
     "name": "stdout",
     "output_type": "stream",
     "text": [
      "Healpix level, gaia_factor, #healpixels\n",
      "1 144115188075855872 48\n",
      "folder existed and existing files will not be queried again\n",
      "number of attempt: 1\n",
      "number of files in folder: 0\n",
      "number of hpx chunks: 48\n",
      "0 added to the job list\n",
      "1 added to the job list\n",
      "2 added to the job list\n",
      "3 added to the job list\n",
      "4 added to the job list\n",
      "5 added to the job list\n",
      "6 added to the job list\n",
      "7 added to the job list\n",
      "8 added to the job list\n",
      "9 added to the job list\n",
      "10 added to the job list\n",
      "11 added to the job list\n",
      "12 added to the job list\n",
      "13 added to the job list\n",
      "14 added to the job list\n",
      "15 added to the job list\n",
      "16 added to the job list\n",
      "17 added to the job list\n",
      "18 added to the job list\n",
      "19 added to the job list\n",
      "20 added to the job list\n",
      "21 added to the job list\n",
      "22 added to the job list\n",
      "23 added to the job list\n",
      "24 added to the job list\n",
      "25 added to the job list\n",
      "26 added to the job list\n",
      "27 added to the job list\n",
      "28 added to the job list\n",
      "29 added to the job list\n",
      "30 added to the job list\n",
      "31 added to the job list\n",
      "32 added to the job list\n",
      "33 added to the job list\n",
      "34 added to the job list\n",
      "35 added to the job list\n",
      "36 added to the job list\n",
      "37 added to the job list\n",
      "38 added to the job list\n",
      "39 added to the job list\n",
      "40 added to the job list\n",
      "41 added to the job list\n",
      "42 added to the job list\n",
      "43 added to the job list\n",
      "44 added to the job list\n",
      "45 added to the job list\n",
      "46 added to the job list\n",
      "47 added to the job list\n",
      "total ADQL queries to download: 48\n"
     ]
    },
    {
     "name": "stderr",
     "output_type": "stream",
     "text": [
      "WARNING: W27: None:17:632: W27: COOSYS deprecated in VOTable 1.2 [astropy.io.votable.tree]\n",
      "WARNING: W50: None:24:2925: W50: Invalid unit string 'log(cm/(s**2))' [astropy.io.votable.tree]\n",
      "WARNING: AstropyDeprecationWarning: Using the table property is deprecated. Please use se to_table() instead. [pyvo.dal.query]\n"
     ]
    },
    {
     "name": "stdout",
     "output_type": "stream",
     "text": [
      "3 / 48 done\n",
      "6 / 48 done\n",
      "9 / 48 done\n",
      "12 / 48 done\n",
      "13 / 48 done\n",
      "14 / 48 done\n",
      "15 / 48 done\n",
      "18 / 48 done\n",
      "19 / 48 done\n",
      "20 / 48 done\n",
      "21 / 48 done\n",
      "22 / 48 done\n",
      "23 / 48 done\n",
      "24 / 48 done\n",
      "27 / 48 done\n",
      "28 / 48 done\n",
      "29 / 48 done\n",
      "30 / 48 done\n",
      "31 / 48 done\n",
      "33 / 48 done\n",
      "35 / 48 done\n",
      "36 / 48 done\n",
      "37 / 48 done\n",
      "38 / 48 done\n",
      "39 / 48 done\n",
      "40 / 48 done\n",
      "41 / 48 done\n",
      "42 / 48 done\n",
      "43 / 48 done\n",
      "44 / 48 done\n",
      "45 / 48 done\n",
      "46 / 48 done\n",
      "47 / 48 done\n",
      "all files have been successfully downloaded to data/HRDcutdereddened/\n"
     ]
    }
   ],
   "source": [
    "## Specifying the TAP query to get all stars in GDR2mock with specific intrinsic BPRP color and absolute magnitude\n",
    "Select_what =   \"\"\"source_id,\n",
    "                   phot_g_mean_mag,\n",
    "                   phot_bp_mean_mag,\n",
    "                   phot_rp_mean_mag,\n",
    "                   parallax,\n",
    "                   parallax_error,\n",
    "                   l, b, teff_val, logg, feh, a_g_val,\n",
    "                   a0, mass, age, lum_val, radius_val,\n",
    "                   phot_g_mean_mag + 5 * LOG10(parallax/100) - a_g_val as g_abs,\n",
    "                   (phot_bp_mean_mag - a_bp) - (phot_rp_mean_mag - a_rp) as bprp0\n",
    "                   \"\"\"\n",
    "\n",
    "# This time we have to use the extra photometry from an external table\n",
    "join_text = \"\"\"JOIN gdr2mock.photometry AS phot\n",
    "                USING (index_parsec)\n",
    "            \"\"\"\n",
    "\n",
    "under_condition = \"\"\"AND phot_g_mean_mag + 5 * LOG10(parallax/100) - a_g_val < 2.2845 + 0.05\n",
    "                    AND phot_g_mean_mag + 5 * LOG10(parallax/100) - a_g_val > 2.2845 - 0.05\n",
    "                    AND (phot_bp_mean_mag - a_bp) - (phot_rp_mean_mag - a_rp) < 1.095962 + 0.04\n",
    "                    AND (phot_bp_mean_mag - a_bp) - (phot_rp_mean_mag - a_rp) > 1.095962 - 0.04\"\"\"\n",
    "\n",
    "\n",
    "folder = 'data/HRDcutdereddened/'\n",
    "hpx_level = 1\n",
    "service = 'GDR2mock'\n",
    "\n",
    "# First we can/should test the query and only download 1 hpx file\n",
    "tap.tap_query_gdr2_hpx_sliced(service = service, hpx_level = hpx_level, folder = folder,\n",
    "                              Select_what = Select_what, under_condition = under_condition,\n",
    "                              join_text=join_text,verbose = True, test_1st_hpx_only=False)"
   ]
  },
  {
   "cell_type": "code",
   "execution_count": 11,
   "metadata": {},
   "outputs": [],
   "source": [
    "# Here we combine the files to one structured array\n",
    "tap.stack_healpix_files(folder)\n",
    "\n",
    "# And plot (part of) the retrieved data\n",
    "x = np.load(folder + 'result.npy')\n",
    "x = x.view(np.recarray)\n",
    "print(len(x),x.dtype)"
   ]
  },
  {
   "cell_type": "code",
   "execution_count": 16,
   "metadata": {},
   "outputs": [
    {
     "name": "stdout",
     "output_type": "stream",
     "text": [
      "mass 0.9793530106544495 + 0.24147495031356803 - 0.04479503631591797 589121\n",
      "age 10.0 + 1.0 - 5.314730167388916 589121\n",
      "logg 3.1630799770355225 + 0.10907807350158683 - 0.030839920043945312 589121\n",
      "a0 2.009320020675659 + 1.7796840190887444 - 1.265322816371918 589121\n",
      "feh -0.3750140070915222 + 0.13178881108760832 - 0.10923759937286376 589121\n",
      "teff_val 4959.43017578125 + 40.9599609375 - 44.10009765625 589121\n",
      "lum_val 9.933919906616211 + 0.3329801559448242 - 0.3069801330566406 589121\n",
      "radius_val 4.280025005340576 + 0.1093440055847168 - 0.11524152755737305 589121\n"
     ]
    }
   ],
   "source": [
    "# Printing out the properties of the selected GDR2 mock stars\n",
    "for item in [\"mass\",\"age\",\"logg\",\"a0\",\"feh\",\"teff_val\",\"lum_val\",\"radius_val\"]:\n",
    "    lower = np.percentile(x[item],16)\n",
    "    median = np.percentile(x[item],50)\n",
    "    upper = np.percentile(x[item],84)\n",
    "    print(item,median, \"+\", upper - median ,\"-\" , median-lower, len(x[item]))\n",
    "\n",
    "# This is compatible with the smaller sample from the nearby stars"
   ]
  }
 ],
 "metadata": {
  "kernelspec": {
   "display_name": "Python 3",
   "language": "python",
   "name": "python3"
  },
  "language_info": {
   "codemirror_mode": {
    "name": "ipython",
    "version": 3
   },
   "file_extension": ".py",
   "mimetype": "text/x-python",
   "name": "python",
   "nbconvert_exporter": "python",
   "pygments_lexer": "ipython3",
   "version": "3.6.3"
  }
 },
 "nbformat": 4,
 "nbformat_minor": 2
}
